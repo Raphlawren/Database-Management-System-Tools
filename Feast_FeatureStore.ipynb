{
 "cells": [
  {
   "cell_type": "code",
   "execution_count": 1,
   "id": "084c2c53-cbcf-4eef-88c8-7d883bf65a27",
   "metadata": {},
   "outputs": [],
   "source": [
    "import pandas as pd\n",
    "from datetime import datetime\n",
    "\n",
    "df = pd.read_parquet(\"/Users/macbookair/my_project/feature_repo/data/course_data.parquet\")\n",
    "df[\"event_timestamp\"] = datetime.utcnow()  # Or pd.Timestamp(\"2025-07-08\")\n",
    "df.to_parquet(\"/Users/macbookair/my_project/feature_repo/data/course_data.parquet\", index=False)"
   ]
  },
  {
   "cell_type": "code",
   "execution_count": 13,
   "id": "aea43221-ffd4-4c29-b40c-a9a020111a7d",
   "metadata": {},
   "outputs": [
    {
     "name": "stdout",
     "output_type": "stream",
     "text": [
      "   CO_CURSO   NO_CURSO  NU_ANO_CENSO\n",
      "0       135  Agronomia          2023\n",
      "Lookup time: 0.0183 seconds\n"
     ]
    }
   ],
   "source": [
    "from feast import FeatureStore\n",
    "import tqdm as tqdm\n",
    "import time\n",
    "\n",
    "store = FeatureStore(repo_path=\".\")\n",
    "\n",
    "start = time.time()\n",
    "\n",
    "features = store.get_online_features(\n",
    "    features=[\n",
    "        \"lasso_course_features:NU_ANO_CENSO\",\n",
    "        \"lasso_course_features:NO_CURSO\",\n",
    "        # You can add more fields as needed\n",
    "    ],\n",
    "    entity_rows=[{\"CO_CURSO\": 135}]\n",
    ").to_df()\n",
    "end = time.time()\n",
    "\n",
    "print(features)\n",
    "print(\"Lookup time:\", round(end - start, 4), \"seconds\")"
   ]
  },
  {
   "cell_type": "code",
   "execution_count": null,
   "id": "e863212a-0ea5-4f3c-8dbb-976e9433a0c9",
   "metadata": {},
   "outputs": [],
   "source": [
    "import mlflow\n",
    "\n",
    "with mlflow.start_run(run_name=\"Feast_FeatureStore\"):\n",
    "    mlflow.log_param(\"tool\", \"Feast\")\n",
    "    mlflow.log_param(\"feature_count\", len(selected_columns))\n",
    "    mlflow.log_metric(\"materialize_time_s\", <value_from_terminal>)\n",
    "    mlflow.log_metric(\"lookup_time_s\", elapsed)\n"
   ]
  }
 ],
 "metadata": {
  "kernelspec": {
   "display_name": "Feast Environment",
   "language": "python",
   "name": "feast_env"
  },
  "language_info": {
   "codemirror_mode": {
    "name": "ipython",
    "version": 3
   },
   "file_extension": ".py",
   "mimetype": "text/x-python",
   "name": "python",
   "nbconvert_exporter": "python",
   "pygments_lexer": "ipython3",
   "version": "3.10.18"
  }
 },
 "nbformat": 4,
 "nbformat_minor": 5
}
